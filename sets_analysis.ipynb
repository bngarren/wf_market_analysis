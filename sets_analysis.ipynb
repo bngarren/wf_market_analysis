{
 "cells": [
  {
   "cell_type": "code",
   "execution_count": 1,
   "id": "a77d9fa0-df73-4b4c-b23d-acaa9cc8af79",
   "metadata": {
    "execution": {
     "iopub.execute_input": "2023-04-05T23:29:46.888799Z",
     "iopub.status.busy": "2023-04-05T23:29:46.888215Z",
     "iopub.status.idle": "2023-04-05T23:29:47.632446Z",
     "shell.execute_reply": "2023-04-05T23:29:47.631553Z",
     "shell.execute_reply.started": "2023-04-05T23:29:46.888769Z"
    },
    "tags": []
   },
   "outputs": [],
   "source": [
    "import pandas as pd\n",
    "import numpy as np\n",
    "import matplotlib.pyplot as plt\n",
    "from datetime import datetime, timedelta, timezone\n",
    "from matplotlib.backends.backend_pdf import PdfPages"
   ]
  },
  {
   "cell_type": "code",
   "execution_count": 2,
   "id": "32940a52-82f9-42f6-93bc-f682e9a29255",
   "metadata": {
    "execution": {
     "iopub.execute_input": "2023-04-05T23:29:47.633672Z",
     "iopub.status.busy": "2023-04-05T23:29:47.633258Z",
     "iopub.status.idle": "2023-04-05T23:29:47.646931Z",
     "shell.execute_reply": "2023-04-05T23:29:47.646597Z",
     "shell.execute_reply.started": "2023-04-05T23:29:47.633658Z"
    },
    "tags": []
   },
   "outputs": [],
   "source": [
    "# https://ipython.readthedocs.io/en/stable/config/extensions/autoreload.html\n",
    "%load_ext autoreload"
   ]
  },
  {
   "cell_type": "code",
   "execution_count": 3,
   "id": "da70151e-1a9c-43e8-85f1-ca3368f5684a",
   "metadata": {
    "execution": {
     "iopub.execute_input": "2023-04-05T23:29:47.647558Z",
     "iopub.status.busy": "2023-04-05T23:29:47.647465Z",
     "iopub.status.idle": "2023-04-05T23:29:47.649594Z",
     "shell.execute_reply": "2023-04-05T23:29:47.649217Z",
     "shell.execute_reply.started": "2023-04-05T23:29:47.647550Z"
    },
    "tags": []
   },
   "outputs": [],
   "source": [
    "#%autoreload now"
   ]
  },
  {
   "cell_type": "code",
   "execution_count": 4,
   "id": "6ec89003-ab53-48d2-a8de-a9c5d717330e",
   "metadata": {
    "execution": {
     "iopub.execute_input": "2023-04-05T23:29:47.651403Z",
     "iopub.status.busy": "2023-04-05T23:29:47.651276Z",
     "iopub.status.idle": "2023-04-05T23:29:47.761400Z",
     "shell.execute_reply": "2023-04-05T23:29:47.761141Z",
     "shell.execute_reply.started": "2023-04-05T23:29:47.651392Z"
    },
    "tags": []
   },
   "outputs": [],
   "source": [
    "# Local modules\n",
    "from db import getData\n",
    "from pd_helpers import get_modified_isd_df, get_filtered_by_time, get_filtered_by_listed_time_and_quant, get_filtered_by_sellers, get_filtered_by_min_3_price_avg\n",
    "from pd_styling import set_caption"
   ]
  },
  {
   "cell_type": "code",
   "execution_count": null,
   "id": "68ce4db4-dd3a-41be-8ffd-4cd29c623a8d",
   "metadata": {
    "execution": {
     "iopub.execute_input": "2023-04-05T23:29:47.761988Z",
     "iopub.status.busy": "2023-04-05T23:29:47.761876Z"
    },
    "tags": []
   },
   "outputs": [],
   "source": [
    "# Get data\n",
    "df = getData(\"SELECT t.* FROM isd_detailed_daily t\")"
   ]
  },
  {
   "cell_type": "code",
   "execution_count": null,
   "id": "aaee2732-1701-4e8f-a351-c33f0cf67d4e",
   "metadata": {
    "tags": []
   },
   "outputs": [],
   "source": [
    "df.sample(5)"
   ]
  },
  {
   "cell_type": "code",
   "execution_count": null,
   "id": "e336e569-3b65-4242-bc0d-2ca0b17bf3e9",
   "metadata": {
    "tags": []
   },
   "outputs": [],
   "source": [
    "df = get_modified_isd_df(df)"
   ]
  },
  {
   "cell_type": "code",
   "execution_count": null,
   "id": "829decd8-0115-43e5-8ac8-adf0b80a86f6",
   "metadata": {
    "tags": []
   },
   "outputs": [],
   "source": [
    "df.columns"
   ]
  },
  {
   "cell_type": "code",
   "execution_count": null,
   "id": "15bd939c-209a-466c-a0d2-1dc34ed29de2",
   "metadata": {
    "tags": []
   },
   "outputs": [],
   "source": [
    "# These are the columns we can perform aggregations on \n",
    "agg_cols = df.loc[0,\"number_of_sellers\":\"avg_listed_time_new_3\"].index.to_list()\n",
    "agg_cols"
   ]
  },
  {
   "cell_type": "code",
   "execution_count": null,
   "id": "a9bd1f75-c1fe-42dd-b7d2-d83a80e39778",
   "metadata": {
    "tags": []
   },
   "outputs": [],
   "source": [
    "sc_df = (\n",
    "    pd\n",
    "    .read_feather(\"set_components.ftr\")\n",
    "    .set_index(\"item_url_name\")\n",
    ")\n",
    "sc_df.sample(3)"
   ]
  },
  {
   "cell_type": "code",
   "execution_count": null,
   "id": "65a42abb-9d8f-456c-9263-55a1da2c826c",
   "metadata": {
    "tags": []
   },
   "outputs": [],
   "source": [
    "# Get all sets that meet certain criteria\n",
    "sets_df = (\n",
    "    get_filtered_by_time(df[df[\"set\"] == True], days=3).groupby(\"item_url_name_rank\").agg(dict.fromkeys(agg_cols, \"median\"))\n",
    "    .pipe(get_filtered_by_min_3_price_avg, min_price=50)\n",
    "    .pipe(get_filtered_by_sellers, min_sellers=2)\n",
    "    .pipe(get_filtered_by_listed_time_and_quant, max_listed=500, min_quant=2)\n",
    "    )\n",
    "\n",
    "sets_indices = sets_df.index.values"
   ]
  },
  {
   "cell_type": "code",
   "execution_count": null,
   "id": "30c12e37-237f-4bee-9bb6-68f90f1c5851",
   "metadata": {
    "tags": []
   },
   "outputs": [],
   "source": [
    "sets_df"
   ]
  },
  {
   "cell_type": "code",
   "execution_count": null,
   "id": "d6d213f7-324a-41de-8bce-0ba809b321f6",
   "metadata": {
    "tags": []
   },
   "outputs": [],
   "source": [
    "# The result df for Set-Component price difference\n",
    "sc_diff_df = (\n",
    "      pd\n",
    "      .DataFrame(index=sets_df.index, columns=[\"comp_total\", \"set_total\", \"quantity\", \"sc_diff\", \"comp_listed_time\", \"set_listed_time\"])\n",
    "    )\n",
    "\n",
    "# get a time filtered df used to get recent prices/times\n",
    "dff = get_filtered_by_time(df, days=3).groupby(\"item_url_name_rank\").agg(dict.fromkeys(agg_cols, \"median\"))\n",
    "\n",
    "# loop through each set in the filtered group of sets meeting our criteria\n",
    "for set_name in sets_indices:\n",
    "    # Get the components of each set (with their quantity, i.e. how many are needed)\n",
    "    set_components = sc_df[sc_df[\"set_root_url_name\"] == set_name][[\"quantity\"]]\n",
    "    # Add some stats for each component\n",
    "    set_components = set_components.assign(\n",
    "      min_3_price_avg=lambda x: dff.loc[x.index,\"min_3_price_avg\"] * x.quantity,\n",
    "      listed_time=lambda x: dff.loc[x.index,\"avg_listed_time_new_3\"]\n",
    "    )\n",
    "    # Make a row in the result df (the set-components df)\n",
    "    sc_diff_df.loc[set_name] = [\n",
    "      set_components[\"min_3_price_avg\"].sum(),\n",
    "      sets_df.loc[set_name,\"min_3_price_avg\"],\n",
    "      set_components[\"quantity\"].sum(),\n",
    "      np.nan,\n",
    "      round(set_components[\"listed_time\"].mean(),1),\n",
    "      dff.loc[set_name, \"avg_listed_time_new_3\"]\n",
    "      ]\n",
    "    sc_diff_df.loc[set_name, \"sc_diff\"] = sc_diff_df.loc[set_name, \"set_total\"] - sc_diff_df.loc[set_name, \"comp_total\"]"
   ]
  },
  {
   "cell_type": "code",
   "execution_count": null,
   "id": "6ed86cdd-3a17-4139-b3d4-8a80ac9d9221",
   "metadata": {
    "tags": []
   },
   "outputs": [],
   "source": [
    "def style_worthy(v, props=''):\n",
    "    return np.where(v > 30, props, \"\")"
   ]
  },
  {
   "cell_type": "code",
   "execution_count": null,
   "id": "6263bcff-cdd9-4b67-bd02-c778e8f06a98",
   "metadata": {
    "tags": []
   },
   "outputs": [],
   "source": [
    "s = (\n",
    "    sc_diff_df[sc_diff_df[\"quantity\"] > 0]\n",
    "     .sort_values(\"sc_diff\", ascending=False)\n",
    "     .head(10)\n",
    "     .round(1)\n",
    "     .style\n",
    "     #.apply(style_worthy, props='color:green;', axis=0, subset=\"sc_diff\")\n",
    "     .background_gradient(cmap=\"GnBu_r\", subset=\"sc_diff\", low=0.7, high=0.3)\n",
    "     .background_gradient(cmap=\"GnBu\", subset=\"set_listed_time\", low=0.2, high=.8)\n",
    ")\n",
    "set_caption(s, \"Price differences between the total cost of components and the cost of the set.\", loc=\"top\")\n",
    "s"
   ]
  },
  {
   "cell_type": "code",
   "execution_count": null,
   "id": "0d7b2292-628d-4921-baac-2b753cec7256",
   "metadata": {
    "tags": []
   },
   "outputs": [],
   "source": [
    "sets_df.sort_values(\"avg_listed_time_new_3\", ascending=False)"
   ]
  },
  {
   "cell_type": "code",
   "execution_count": null,
   "id": "eac34118-47f0-4852-b66b-501ed063949c",
   "metadata": {},
   "outputs": [],
   "source": []
  },
  {
   "cell_type": "code",
   "execution_count": null,
   "id": "de253951-ad5d-4bdd-b141-da11da762ee0",
   "metadata": {},
   "outputs": [],
   "source": []
  },
  {
   "cell_type": "code",
   "execution_count": null,
   "id": "1179e5ab-fa56-4440-88d3-673bda4e4bda",
   "metadata": {},
   "outputs": [],
   "source": []
  },
  {
   "cell_type": "code",
   "execution_count": null,
   "id": "6bcd09b2-9b69-4a68-aed2-9049fc21ef0e",
   "metadata": {},
   "outputs": [],
   "source": []
  },
  {
   "cell_type": "code",
   "execution_count": null,
   "id": "19e9cb9a-bf43-406f-87b6-d4a948205b3c",
   "metadata": {},
   "outputs": [],
   "source": []
  },
  {
   "cell_type": "code",
   "execution_count": null,
   "id": "87f434b3-aab3-4293-81d3-ace777e36742",
   "metadata": {},
   "outputs": [],
   "source": []
  },
  {
   "cell_type": "code",
   "execution_count": null,
   "id": "f0812984-f930-42ef-af26-3e1186c308af",
   "metadata": {},
   "outputs": [],
   "source": []
  },
  {
   "cell_type": "code",
   "execution_count": null,
   "id": "acc2d153-8dcf-4af9-ae7f-0921ae8f5436",
   "metadata": {},
   "outputs": [],
   "source": []
  },
  {
   "cell_type": "code",
   "execution_count": null,
   "id": "e18eeebe-6ac5-4431-85d5-331a1e4afd32",
   "metadata": {},
   "outputs": [],
   "source": []
  },
  {
   "cell_type": "code",
   "execution_count": null,
   "id": "f3a8fff2-9c2d-44e7-9b2b-0ed8a6d26f3d",
   "metadata": {},
   "outputs": [],
   "source": []
  }
 ],
 "metadata": {
  "kernelspec": {
   "display_name": "Python 3 (ipykernel)",
   "language": "python",
   "name": "python3"
  },
  "language_info": {
   "codemirror_mode": {
    "name": "ipython",
    "version": 3
   },
   "file_extension": ".py",
   "mimetype": "text/x-python",
   "name": "python",
   "nbconvert_exporter": "python",
   "pygments_lexer": "ipython3",
   "version": "3.11.2"
  }
 },
 "nbformat": 4,
 "nbformat_minor": 5
}
